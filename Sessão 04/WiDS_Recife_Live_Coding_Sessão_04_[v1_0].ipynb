{
  "nbformat": 4,
  "nbformat_minor": 0,
  "metadata": {
    "colab": {
      "name": "WiDS Recife Live Coding - Sessão 04 [v1.0].ipynb",
      "provenance": [],
      "collapsed_sections": []
    },
    "kernelspec": {
      "name": "python3",
      "display_name": "Python 3"
    }
  },
  "cells": [
    {
      "cell_type": "code",
      "metadata": {
        "id": "UwfxZePU1AyX",
        "colab_type": "code",
        "colab": {}
      },
      "source": [
        "import pandas as pd\n",
        "\n",
        "import matplotlib.pyplot as plt\n",
        "import seaborn as sns\n",
        "\n",
        "from sklearn import preprocessing\n",
        "from sklearn.model_selection import train_test_split\n",
        "from sklearn.preprocessing import OneHotEncoder\n",
        "\n",
        "from sklearn.feature_selection import SelectKBest\n",
        "from sklearn.feature_selection import chi2\n",
        "\n",
        "from sklearn.tree import DecisionTreeClassifier\n",
        "\n",
        "import numpy as np\n",
        "\n",
        "sns.set(style=\"whitegrid\")\n",
        "\n",
        "from sklearn.model_selection import StratifiedKFold\n",
        "\n",
        "from sklearn.model_selection import validation_curve\n",
        "from sklearn.model_selection import learning_curve"
      ],
      "execution_count": 0,
      "outputs": []
    },
    {
      "cell_type": "markdown",
      "metadata": {
        "id": "hta_ZvEI80FI",
        "colab_type": "text"
      },
      "source": [
        "# 0. Etapas da Sessão 01 e 02\n",
        "Aqui nós colocamos todas as etapas das Sessões anterior uma única célula, para ver a explicação de cada etapa você pode olhar o notebook da Sessão 01 e da Sessão 02 em https://github.com/widsrecife/live-coding\n"
      ]
    },
    {
      "cell_type": "code",
      "metadata": {
        "id": "fRn34igm1Eka",
        "colab_type": "code",
        "colab": {}
      },
      "source": [
        "# Ler dados de um CSV e coloca em um dataframe\n",
        "\n",
        "df = pd.read_csv(\"https://raw.githubusercontent.com/widsrecife/dados/master/Sessao_1/Attribute%20DataSet.csv\")\n",
        "\n",
        "# Removendo linhas que não têm valor em Season\n",
        "\n",
        "df = df.dropna(subset=[\"Season\"])\n",
        "\n",
        "# No pandas a gente pode selecionar uma coluna, aplicar uma função e salvar o resultado em uma nuva coluna;\n",
        "#   para aplicar a função usamos a função apply()\n",
        "\n",
        "def string_para_minusculo(valor):\n",
        "    return str(valor).lower()\n",
        "\n",
        "@np.vectorize\n",
        "def vec_string_para_minusculo(valor):\n",
        "    return str(valor).lower()\n",
        "\n",
        "df[\"season_minusculo\"] = df[\"Season\"].apply(string_para_minusculo)\n",
        "\n",
        "# Também podemos substituir determinados valores usando a função replace()\n",
        "\n",
        "df[\"season_minusculo\"] = df[\"season_minusculo\"].replace({\"autumn\":\"automn\"})\n",
        "df[\"SleeveLength\"] = df[\"SleeveLength\"].replace({\"sleveless\":\"sleeveless\",\"sleevless\":\"sleeveless\",\"sleeevless\":\"sleeveless\",\n",
        "                                                 \"cap-sleeves\":\"capsleeves\",\"thressqatar\":\"threequarter\",\n",
        "                                                 \"threequater\":\"threequarter\",\"turndowncollor\":np.nan,\"half\":np.nan,\n",
        "                                                 \"urndowncollor\":np.nan, \n",
        "                                                 \"butterfly\":np.nan, \n",
        "                                                 \"Petal\":np.nan})\n",
        "df = df.fillna(\"-1\")\n",
        "\n",
        "rotulos_string = df[\"season_minusculo\"]\n",
        "\n",
        "# O pandas tem várias formas de selecionar linhas e colundas ([], .loc, .iloc)\n",
        "#   aqui vamos usar o [] (indexing operator) onde a gente passa uma lista com as colunas que queremos selecionar\n",
        "colunas_utilizadas = [\"Style\",\"NeckLine\",\"SleeveLength\",\"Material\",\"FabricType\",\"Decoration\"]\n",
        "\n",
        "df_colunas_utilizadas = df[colunas_utilizadas]\n",
        "\n",
        "# Nossa coluna de rótulos (labels em Inglês) tem Strings, mas precisamos que sejam números para usar os algoritmos\n",
        "#   do scikit-learn\n",
        "# Vamos converter as strings para números usando a classe LabelEncoder() do scikit-learn\n",
        "#   Essa função transformar cada string em uma classe de 0 n_classes-1\n",
        "#   Exemplo: [\"vermelho\",\"azul\",\"azul\"] se torna [0,1,1]\n",
        "\n",
        "rotulos_encoder = preprocessing.LabelEncoder()\n",
        "\n",
        "# Instanciamos a classe LabelEncoder() acima, mas para transformar os dados precisamos que a classe:\n",
        "#   1. aprenda qual vai ser o número de cada string: método fit()\n",
        "#   2. transforme os dados em números: método transform\n",
        "rotulos_encoder.fit(rotulos_string)\n",
        "\n",
        "rotulos = rotulos_encoder.transform(rotulos_string)\n",
        "\n",
        "# O scikit-learn possui uma função chamada train_test_split() que divide um conjunto de dados em conjunto de treinamento\n",
        "#   e conjunto de testes. Isso é importante porque sem o conjunto de testes a gente não vão poder avaliar se um modelo\n",
        "#   apresenta bons resultados ou não\n",
        "# Vamos usar o paramêtro stratify para que os dois conjuntos tenham a mesma proporção de classes\n",
        "\n",
        "dados_treinamento, dados_teste, rotulos_treinamento, rotulos_teste = train_test_split(df_colunas_utilizadas,\n",
        "                                                                                      rotulos,\n",
        "                                                                                      stratify=rotulos,\n",
        "                                                                                      test_size=0.33,\n",
        "                                                                                      random_state=42)\n",
        "\n",
        "\n",
        "# Strings para números com o OneHotEncoding\n",
        "dados_treinamento_minusculo = dados_treinamento.apply(vec_string_para_minusculo,axis=\"index\")\n",
        "\n",
        "one_hot_encoder = OneHotEncoder(handle_unknown='ignore')\n",
        "\n",
        "one_hot_encoder.fit(dados_treinamento_minusculo)\n",
        "\n",
        "dados_treinamento_transformados_one_hot = one_hot_encoder.transform(dados_treinamento_minusculo)\n",
        "\n",
        "FEATURE_NAMES = one_hot_encoder.get_feature_names()\n",
        "\n",
        "# A gente pode escolher as features com mais poder preditivo\n",
        "#   Vamos usar a classe SelectKBest do scikit-learn para fazer isso e a função chi2 para calcular os scores\n",
        "\n",
        "seletor_de_features = SelectKBest(chi2, k=20)\n",
        "dados_treinamento_features_selecionadas = seletor_de_features.fit_transform(dados_treinamento_transformados_one_hot, rotulos_treinamento)\n",
        "features_selecionadas = FEATURE_NAMES[seletor_de_features.get_support()]\n",
        "\n",
        "# Treinando o modelo\n",
        "clf = DecisionTreeClassifier(max_depth=10, random_state=50)\n",
        "clf = clf.fit(dados_treinamento_features_selecionadas, rotulos_treinamento)"
      ],
      "execution_count": 0,
      "outputs": []
    },
    {
      "cell_type": "markdown",
      "metadata": {
        "id": "d63muo6DhG63",
        "colab_type": "text"
      },
      "source": [
        "## 1. Avaliando o modelo quanto ao viés e a variância\n",
        "### 1.1 Como os dados são divididos?"
      ]
    },
    {
      "cell_type": "code",
      "metadata": {
        "id": "sYNtdvMvzk4W",
        "colab_type": "code",
        "outputId": "0299a0a9-e113-48aa-eb09-68ed18391653",
        "colab": {
          "base_uri": "https://localhost:8080/",
          "height": 460
        }
      },
      "source": [
        "# O StratifiedKFold particiona em k conjuntos com as mesmas porcentagens das classes\n",
        "skf = StratifiedKFold(n_splits=5)\n",
        "skf.get_n_splits(dados_treinamento_features_selecionadas,rotulos_treinamento)\n",
        "for train_index, test_index in skf.split(dados_treinamento_features_selecionadas,rotulos_treinamento):\n",
        "    display(pd.DataFrame(rotulos_treinamento).iloc[test_index][0].value_counts())"
      ],
      "execution_count": 0,
      "outputs": [
        {
          "output_type": "display_data",
          "data": {
            "text/plain": [
              "2    22\n",
              "3    19\n",
              "1    17\n",
              "0     9\n",
              "Name: 0, dtype: int64"
            ]
          },
          "metadata": {
            "tags": []
          }
        },
        {
          "output_type": "display_data",
          "data": {
            "text/plain": [
              "2    22\n",
              "3    19\n",
              "1    17\n",
              "0     9\n",
              "Name: 0, dtype: int64"
            ]
          },
          "metadata": {
            "tags": []
          }
        },
        {
          "output_type": "display_data",
          "data": {
            "text/plain": [
              "2    21\n",
              "3    19\n",
              "1    17\n",
              "0    10\n",
              "Name: 0, dtype: int64"
            ]
          },
          "metadata": {
            "tags": []
          }
        },
        {
          "output_type": "display_data",
          "data": {
            "text/plain": [
              "2    21\n",
              "3    20\n",
              "1    16\n",
              "0     9\n",
              "Name: 0, dtype: int64"
            ]
          },
          "metadata": {
            "tags": []
          }
        },
        {
          "output_type": "display_data",
          "data": {
            "text/plain": [
              "2    21\n",
              "3    20\n",
              "1    16\n",
              "0     9\n",
              "Name: 0, dtype: int64"
            ]
          },
          "metadata": {
            "tags": []
          }
        }
      ]
    },
    {
      "cell_type": "markdown",
      "metadata": {
        "id": "ZGaYzZr-T-rv",
        "colab_type": "text"
      },
      "source": [
        "### 1.2 Curva de treinamento"
      ]
    },
    {
      "cell_type": "code",
      "metadata": {
        "id": "SC_jZY5SJhyj",
        "colab_type": "code",
        "colab": {}
      },
      "source": [
        "train_sizes = [50, 100, 150, 200, 266]\n",
        "train_sizes, train_scores, test_scores = learning_curve(clf, dados_treinamento_features_selecionadas, rotulos_treinamento,\n",
        "                                                        train_sizes=train_sizes,\n",
        "                                                        scoring=\"balanced_accuracy\",cv=5)\n",
        "\n",
        "train_scores_mean = np.mean(train_scores, axis=1)\n",
        "train_scores_std = np.std(train_scores, axis=1)\n",
        "test_scores_mean = np.mean(test_scores, axis=1)\n",
        "test_scores_std = np.std(test_scores, axis=1)"
      ],
      "execution_count": 0,
      "outputs": []
    },
    {
      "cell_type": "code",
      "metadata": {
        "id": "84MeVIdCUehg",
        "colab_type": "code",
        "outputId": "1868f8ee-9f9b-4f3d-c487-182a1b214164",
        "colab": {
          "base_uri": "https://localhost:8080/",
          "height": 123
        }
      },
      "source": [
        "# Temos 5 testes\n",
        "print(\"shape:\",train_scores.shape)\n",
        "train_scores"
      ],
      "execution_count": 0,
      "outputs": [
        {
          "output_type": "stream",
          "text": [
            "shape: (5, 5)\n"
          ],
          "name": "stdout"
        },
        {
          "output_type": "execute_result",
          "data": {
            "text/plain": [
              "array([[0.76706539, 0.74975198, 0.74975198, 0.74975198, 0.74975198],\n",
              "       [0.59016495, 0.57127649, 0.68957281, 0.68957281, 0.68957281],\n",
              "       [0.55135358, 0.61679451, 0.63469833, 0.53307909, 0.53307909],\n",
              "       [0.53331939, 0.55151528, 0.5152803 , 0.58562594, 0.55130101],\n",
              "       [0.53547024, 0.53324726, 0.58032584, 0.56063803, 0.56239882]])"
            ]
          },
          "metadata": {
            "tags": []
          },
          "execution_count": 6
        }
      ]
    },
    {
      "cell_type": "code",
      "metadata": {
        "id": "NOIpDUmwU2lr",
        "colab_type": "code",
        "outputId": "b9a0f777-4076-4a80-94b3-a27ea37b9914",
        "colab": {
          "base_uri": "https://localhost:8080/",
          "height": 52
        }
      },
      "source": [
        "# Podemos calcular a média para cada parâmetro\n",
        "print(\"médias para score no conjunto de treinamento\",train_scores_mean)\n",
        "print(\"médias para score no conjunto de validação cruzada\", test_scores_mean)"
      ],
      "execution_count": 0,
      "outputs": [
        {
          "output_type": "stream",
          "text": [
            "médias para score no conjunto de treinamento [0.75321467 0.64603198 0.57380092 0.54740838 0.55441604]\n",
            "médias para score no conjunto de validação cruzada [0.30576653 0.32331335 0.33056689 0.37262358 0.34851404]\n"
          ],
          "name": "stdout"
        }
      ]
    },
    {
      "cell_type": "code",
      "metadata": {
        "id": "SxpoGqu0J8FK",
        "colab_type": "code",
        "outputId": "1713971e-9cd9-4bf0-b1bd-08b6618d682b",
        "colab": {
          "base_uri": "https://localhost:8080/",
          "height": 301
        }
      },
      "source": [
        "# Plot the scores\n",
        "plt.figure()\n",
        "plt.title('Curva de aprendizagem')\n",
        "# Plot the standard deviations\n",
        "plt.fill_between(train_sizes, train_scores_mean - train_scores_std,\n",
        " train_scores_mean + train_scores_std, alpha=0.1,\n",
        " color=\"C1\")\n",
        "plt.fill_between(train_sizes, test_scores_mean - test_scores_std,\n",
        " test_scores_mean + test_scores_std, alpha=0.1, color=\"C0\")\n",
        "\n",
        "# Plot the means\n",
        "plt.plot(train_sizes, train_scores_mean, 'o-', color=\"C1\",\n",
        " label=\"Training score\")\n",
        "plt.plot(train_sizes, test_scores_mean, 'o-', color=\"C0\",\n",
        " label=\"Cross-validation score\")\n",
        "\n",
        "plt.xticks(train_sizes)\n",
        "plt.xlabel('Tamanho de conjunto de treinamento (instâncias)')\n",
        "plt.ylabel('Acurácia balanceada')\n",
        "plt.legend(loc=\"best\")\n",
        "plt.show()"
      ],
      "execution_count": 0,
      "outputs": [
        {
          "output_type": "display_data",
          "data": {
            "image/png": "[encoded data removed]",
            "text/plain": [
              "<Figure size 432x288 with 1 Axes>"
            ]
          },
          "metadata": {
            "tags": []
          }
        }
      ]
    },
    {
      "cell_type": "markdown",
      "metadata": {
        "id": "3jYbH3qeT3V4",
        "colab_type": "text"
      },
      "source": [
        "### 1.3 Curva da validação"
      ]
    },
    {
      "cell_type": "code",
      "metadata": {
        "id": "7qn2VAdEpEW7",
        "colab_type": "code",
        "colab": {}
      },
      "source": [
        "param_range = [3,4,5,6,7,8,9,10]\n",
        "\n",
        "train_scores, test_scores = validation_curve(clf, dados_treinamento_features_selecionadas, rotulos_treinamento,\n",
        "                                             param_name='max_depth',\n",
        "                                             param_range=param_range,\n",
        "                                             cv=5,\n",
        "                                             scoring=\"balanced_accuracy\")\n",
        "\n",
        "train_scores_mean = np.mean(train_scores, axis=1)\n",
        "train_scores_std = np.std(train_scores, axis=1)\n",
        "test_scores_mean = np.mean(test_scores, axis=1)\n",
        "test_scores_std = np.std(test_scores, axis=1)"
      ],
      "execution_count": 0,
      "outputs": []
    },
    {
      "cell_type": "code",
      "metadata": {
        "id": "nredz-ngqjd1",
        "colab_type": "code",
        "outputId": "f53c0b66-2b3f-4e9c-b66e-923d0cc02e49",
        "colab": {
          "base_uri": "https://localhost:8080/",
          "height": 301
        }
      },
      "source": [
        "plt.figure()\n",
        "plt.title('Validation curves')\n",
        "\n",
        "# Plot the standard deviations\n",
        "plt.fill_between(param_range, train_scores_mean - train_scores_std,\n",
        "                 train_scores_mean + train_scores_std, alpha=0.1,\n",
        "                 color=\"C1\")\n",
        "plt.fill_between(param_range, test_scores_mean - test_scores_std,\n",
        "                 test_scores_mean + test_scores_std, alpha=0.1, color=\"C0\")\n",
        "\n",
        "# Plot the means\n",
        "plt.plot(param_range, train_scores_mean, 'o-', color=\"C1\",\n",
        "         label=\"Training score\")\n",
        "plt.plot(param_range, test_scores_mean, 'o-', color=\"C0\",\n",
        "         label=\"Cross-validation score\")\n",
        "\n",
        "plt.xticks(param_range)\n",
        "plt.xlabel('Depth da árvore')\n",
        "plt.ylabel('Acurácia balanceada')\n",
        "plt.legend(loc=\"best\")\n",
        "plt.show()"
      ],
      "execution_count": 0,
      "outputs": [
        {
          "output_type": "display_data",
          "data": {
            "image/png": "[encoded data removed]",
            "text/plain": [
              "<Figure size 432x288 with 1 Axes>"
            ]
          },
          "metadata": {
            "tags": []
          }
        }
      ]
    }
  ]
}