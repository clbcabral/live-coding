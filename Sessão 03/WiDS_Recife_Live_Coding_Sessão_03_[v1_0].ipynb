{
  "nbformat": 4,
  "nbformat_minor": 0,
  "metadata": {
    "colab": {
      "name": "WiDS Recife Live Coding - Sessão 03 [v1.0].ipynb",
      "provenance": [],
      "collapsed_sections": []
    },
    "kernelspec": {
      "name": "python3",
      "display_name": "Python 3"
    }
  },
  "cells": [
    {
      "cell_type": "code",
      "metadata": {
        "id": "UwfxZePU1AyX",
        "colab_type": "code",
        "colab": {}
      },
      "source": [
        "import pandas as pd\n",
        "\n",
        "import matplotlib.pyplot as plt\n",
        "import seaborn as sns\n",
        "\n",
        "from sklearn import preprocessing\n",
        "from sklearn.model_selection import train_test_split\n",
        "from sklearn.preprocessing import OneHotEncoder\n",
        "\n",
        "from sklearn.feature_selection import SelectKBest\n",
        "from sklearn.feature_selection import chi2\n",
        "\n",
        "from sklearn.tree import DecisionTreeClassifier\n",
        "\n",
        "import numpy as np\n",
        "\n",
        "sns.set(style=\"whitegrid\")"
      ],
      "execution_count": 0,
      "outputs": []
    },
    {
      "cell_type": "markdown",
      "metadata": {
        "id": "hta_ZvEI80FI",
        "colab_type": "text"
      },
      "source": [
        "# 0. Etapas da Sessão 01 e 02\n",
        "Aqui nós colocamos todas as etapas das Sessões anterior uma única célula, para ver a explicação de cada etapa você pode olhar o notebook da Sessão 01 e da Sessão 02 em https://github.com/widsrecife/live-coding\n"
      ]
    },
    {
      "cell_type": "code",
      "metadata": {
        "id": "fRn34igm1Eka",
        "colab_type": "code",
        "colab": {}
      },
      "source": [
        "# Ler dados de um CSV e coloca em um dataframe\n",
        "\n",
        "df = pd.read_csv(\"https://raw.githubusercontent.com/widsrecife/dados/master/Sessao_1/Attribute%20DataSet.csv\")\n",
        "\n",
        "# Removendo linhas que não têm valor em Season\n",
        "\n",
        "df = df.dropna(subset=[\"Season\"])\n",
        "\n",
        "# O pandas tem várias formas de selecionar linhas e colundas ([], .loc, .iloc)\n",
        "#   aqui vamos usar o [] (indexing operator) onde a gente passa uma lista com as colunas que queremos selecionar\n",
        "colunas_utilizadas = [\"Style\",\"NeckLine\",\"SleeveLength\",\"Material\",\"FabricType\",\"Decoration\"]\n",
        "\n",
        "df_colunas_utilizadas = df[colunas_utilizadas]\n",
        "\n",
        "# No pandas a gente pode selecionar uma coluna, aplicar uma função e salvar o resultado em uma nuva coluna;\n",
        "#   para aplicar a função usamos a função apply()\n",
        "\n",
        "def string_para_minusculo(valor):\n",
        "    return str(valor).lower()\n",
        "\n",
        "@np.vectorize\n",
        "def vec_string_para_minusculo(valor):\n",
        "    return str(valor).lower()\n",
        "\n",
        "df[\"season_minusculo\"] = df[\"Season\"].apply(string_para_minusculo)\n",
        "\n",
        "# Também podemos substituir determinados valores usando a função replace()\n",
        "\n",
        "df[\"season_minusculo\"] = df[\"season_minusculo\"].replace({\"autumn\":\"automn\"})\n",
        "\n",
        "rotulos_string = df[\"season_minusculo\"]\n",
        "\n",
        "# Nossa coluna de rótulos (labels em Inglês) tem Strings, mas precisamos que sejam números para usar os algoritmos\n",
        "#   do scikit-learn\n",
        "# Vamos converter as strings para números usando a classe LabelEncoder() do scikit-learn\n",
        "#   Essa função transformar cada string em uma classe de 0 n_classes-1\n",
        "#   Exemplo: [\"vermelho\",\"azul\",\"azul\"] se torna [0,1,1]\n",
        "\n",
        "rotulos_encoder = preprocessing.LabelEncoder()\n",
        "\n",
        "# Instanciamos a classe LabelEncoder() acima, mas para transformar os dados precisamos que a classe:\n",
        "#   1. aprenda qual vai ser o número de cada string: método fit()\n",
        "#   2. transforme os dados em números: método transform\n",
        "rotulos_encoder.fit(rotulos_string)\n",
        "\n",
        "rotulos = rotulos_encoder.transform(rotulos_string)\n",
        "\n",
        "# O scikit-learn possui uma função chamada train_test_split() que divide um conjunto de dados em conjunto de treinamento\n",
        "#   e conjunto de testes. Isso é importante porque sem o conjunto de testes a gente não vão poder avaliar se um modelo\n",
        "#   apresenta bons resultados ou não\n",
        "# Vamos usar o paramêtro stratify para que os dois conjuntos tenham a mesma proporção de classes\n",
        "\n",
        "dados_treinamento, dados_teste, rotulos_treinamento, rotulos_teste = train_test_split(df_colunas_utilizadas,\n",
        "                                                                                      rotulos,\n",
        "                                                                                      stratify=rotulos,\n",
        "                                                                                      test_size=0.33,\n",
        "                                                                                      random_state=42)\n",
        "\n",
        "dados_treinamento_sem_valores_faltantes = dados_treinamento.fillna(\"-1\")\n",
        "\n",
        "# Strings para números com o OneHotEncoding\n",
        "dados_treinamento_minusculo = dados_treinamento_sem_valores_faltantes.apply(vec_string_para_minusculo,axis=\"index\")\n",
        "\n",
        "one_hot_encoder = OneHotEncoder(handle_unknown='ignore')\n",
        "\n",
        "one_hot_encoder.fit(dados_treinamento_minusculo)\n",
        "\n",
        "dados_treinamento_transformados_one_hot = one_hot_encoder.transform(dados_treinamento_minusculo)\n",
        "\n",
        "FEATURE_NAMES = one_hot_encoder.get_feature_names()\n",
        "\n",
        "# A gente pode escolher as features com mais poder preditivo\n",
        "#   Vamos usar a classe SelectKBest do scikit-learn para fazer isso e a função chi2 para calcular os scores\n",
        "\n",
        "seletor_de_features = SelectKBest(chi2, k=20)\n",
        "dados_treinamento_features_selecionadas = seletor_de_features.fit_transform(dados_treinamento_transformados_one_hot, rotulos_treinamento)\n",
        "features_selecionadas = FEATURE_NAMES[seletor_de_features.get_support()]\n",
        "\n",
        "# Treinando o modelo\n",
        "clf = DecisionTreeClassifier(max_depth=7, random_state=50)\n",
        "clf = clf.fit(dados_treinamento_features_selecionadas, rotulos_treinamento)"
      ],
      "execution_count": 0,
      "outputs": []
    },
    {
      "cell_type": "markdown",
      "metadata": {
        "id": "d63muo6DhG63",
        "colab_type": "text"
      },
      "source": [
        "## 1. Avaliando o modelo"
      ]
    },
    {
      "cell_type": "code",
      "metadata": {
        "id": "zZU4jct6hKDG",
        "colab_type": "code",
        "outputId": "5813cfb4-fd97-4a0c-82a3-031e1cea5664",
        "colab": {
          "base_uri": "https://localhost:8080/",
          "height": 35
        }
      },
      "source": [
        "# As mesmas etapas que fizemos nas features de treinamento\n",
        "dados_teste_sem_valores_faltantes = dados_teste.fillna(\"-1\")\n",
        "\n",
        "dados_teste_transformados = one_hot_encoder.transform(dados_teste_sem_valores_faltantes)\n",
        "\n",
        "dados_teste_features_selecionadas = seletor_de_features.transform(dados_teste_transformados)\n",
        "\n",
        "# acurácia média\n",
        "#   https://scikit-learn.org/stable/modules/generated/sklearn.metrics.accuracy_score.html\n",
        "\n",
        "clf.score(dados_teste_features_selecionadas,rotulos_teste)"
      ],
      "execution_count": 0,
      "outputs": [
        {
          "output_type": "execute_result",
          "data": {
            "text/plain": [
              "0.40606060606060607"
            ]
          },
          "metadata": {
            "tags": []
          },
          "execution_count": 15
        }
      ]
    },
    {
      "cell_type": "code",
      "metadata": {
        "id": "Ju-seyDAzv6D",
        "colab_type": "code",
        "colab": {}
      },
      "source": [
        "# Salvando as predições em uma variável\n",
        "predicoes = clf.predict(dados_teste_features_selecionadas)"
      ],
      "execution_count": 0,
      "outputs": []
    },
    {
      "cell_type": "code",
      "metadata": {
        "id": "mmtZjNHGiEel",
        "colab_type": "code",
        "outputId": "f9dbb1db-d330-4553-9ad1-f6126dc31182",
        "colab": {
          "base_uri": "https://localhost:8080/",
          "height": 159
        }
      },
      "source": [
        "predicoes"
      ],
      "execution_count": 0,
      "outputs": [
        {
          "output_type": "execute_result",
          "data": {
            "text/plain": [
              "array([2, 3, 3, 1, 3, 2, 2, 2, 2, 1, 2, 3, 1, 0, 2, 3, 1, 1, 2, 2, 3, 2,\n",
              "       3, 1, 1, 1, 3, 2, 1, 3, 2, 3, 1, 3, 2, 2, 2, 2, 2, 2, 2, 2, 2, 1,\n",
              "       1, 2, 2, 2, 2, 2, 2, 2, 3, 2, 2, 2, 1, 3, 3, 1, 3, 2, 1, 2, 1, 1,\n",
              "       2, 2, 1, 1, 2, 2, 3, 2, 2, 2, 3, 1, 3, 2, 2, 3, 1, 3, 3, 1, 1, 1,\n",
              "       1, 3, 3, 2, 2, 1, 2, 2, 2, 1, 3, 1, 1, 3, 2, 2, 3, 2, 2, 2, 1, 2,\n",
              "       1, 2, 1, 2, 1, 2, 3, 0, 2, 2, 2, 2, 3, 1, 2, 1, 1, 2, 2, 2, 2, 2,\n",
              "       1, 2, 1, 2, 1, 2, 3, 3, 3, 3, 1, 1, 0, 2, 2, 1, 1, 1, 2, 2, 2, 2,\n",
              "       2, 2, 2, 1, 3, 1, 2, 3, 1, 2, 2])"
            ]
          },
          "metadata": {
            "tags": []
          },
          "execution_count": 17
        }
      ]
    },
    {
      "cell_type": "code",
      "metadata": {
        "id": "Prd2o9fwDdNp",
        "colab_type": "code",
        "outputId": "1189f54a-61ce-4033-a793-c1b4c4a687b7",
        "colab": {
          "base_uri": "https://localhost:8080/",
          "height": 106
        }
      },
      "source": [
        "# Qual a distribuição das classes no conjunto de testes?\n",
        "\n",
        "rotulos_teste_string = rotulos_encoder.inverse_transform(rotulos_teste)\n",
        "df_rotulos_teste_string = pd.DataFrame(rotulos_teste_string,columns=[\"classe\"])\n",
        "display(df_rotulos_teste_string[\"classe\"].value_counts(dropna=False))"
      ],
      "execution_count": 0,
      "outputs": [
        {
          "output_type": "display_data",
          "data": {
            "text/plain": [
              "summer    53\n",
              "winter    48\n",
              "spring    41\n",
              "automn    23\n",
              "Name: classe, dtype: int64"
            ]
          },
          "metadata": {
            "tags": []
          }
        }
      ]
    },
    {
      "cell_type": "code",
      "metadata": {
        "id": "ioY6-ESqEw9U",
        "colab_type": "code",
        "outputId": "a0b64923-faaf-48b0-dc65-cab45527ed00",
        "colab": {
          "base_uri": "https://localhost:8080/",
          "height": 106
        }
      },
      "source": [
        "# Quanto em %?\n",
        "#   Isso é o class imbalance (classes com muito mais instâncias que as outras)\n",
        "display(df_rotulos_teste_string[\"classe\"].value_counts(normalize=True)*100)"
      ],
      "execution_count": 0,
      "outputs": [
        {
          "output_type": "display_data",
          "data": {
            "text/plain": [
              "summer    32.121212\n",
              "winter    29.090909\n",
              "spring    24.848485\n",
              "automn    13.939394\n",
              "Name: classe, dtype: float64"
            ]
          },
          "metadata": {
            "tags": []
          }
        }
      ]
    },
    {
      "cell_type": "code",
      "metadata": {
        "id": "gzjErd-DFLzs",
        "colab_type": "code",
        "outputId": "6e315f88-4a16-4b44-a692-38a371a9eaf8",
        "colab": {
          "base_uri": "https://localhost:8080/",
          "height": 35
        }
      },
      "source": [
        "# Se a gente disser que todas as predições são summer, qual o score?\n",
        "from sklearn.metrics import accuracy_score\n",
        "\n",
        "accuracy_score(rotulos_encoder.transform(np.array([\"summer\"]*165)), rotulos_teste)"
      ],
      "execution_count": 0,
      "outputs": [
        {
          "output_type": "execute_result",
          "data": {
            "text/plain": [
              "0.3212121212121212"
            ]
          },
          "metadata": {
            "tags": []
          },
          "execution_count": 20
        }
      ]
    },
    {
      "cell_type": "markdown",
      "metadata": {
        "id": "c1h1D0jXq7VM",
        "colab_type": "text"
      },
      "source": [
        "(ir para o slide falar sobre as métricas)"
      ]
    },
    {
      "cell_type": "code",
      "metadata": {
        "id": "bXQjvEs7008Y",
        "colab_type": "code",
        "outputId": "b4fb09ed-6975-4e8d-90f5-376268416df1",
        "colab": {
          "base_uri": "https://localhost:8080/",
          "height": 35
        }
      },
      "source": [
        "rotulos_encoder.classes_"
      ],
      "execution_count": 0,
      "outputs": [
        {
          "output_type": "execute_result",
          "data": {
            "text/plain": [
              "array(['automn', 'nan', 'spring', 'summer', 'winter'], dtype=object)"
            ]
          },
          "metadata": {
            "tags": []
          },
          "execution_count": 10
        }
      ]
    },
    {
      "cell_type": "code",
      "metadata": {
        "id": "bjoxmmNV0G8t",
        "colab_type": "code",
        "outputId": "7738ad79-2fa9-4b8d-c45b-b897047f6242",
        "colab": {
          "base_uri": "https://localhost:8080/",
          "height": 212
        }
      },
      "source": [
        "from sklearn.metrics import classification_report\n",
        "\n",
        "print(classification_report(predicoes, rotulos_teste))"
      ],
      "execution_count": 0,
      "outputs": [
        {
          "output_type": "stream",
          "text": [
            "              precision    recall  f1-score   support\n",
            "\n",
            "           0       0.00      0.00      0.00         3\n",
            "           1       0.29      0.26      0.27        47\n",
            "           2       0.68      0.44      0.54        81\n",
            "           3       0.40      0.56      0.46        34\n",
            "\n",
            "    accuracy                           0.41       165\n",
            "   macro avg       0.34      0.31      0.32       165\n",
            "weighted avg       0.50      0.41      0.44       165\n",
            "\n"
          ],
          "name": "stdout"
        }
      ]
    },
    {
      "cell_type": "markdown",
      "metadata": {
        "id": "KBAoar957nRM",
        "colab_type": "text"
      },
      "source": [
        "### 1.1 Vendo a probabilidade de cada classe para uma linha dos dados"
      ]
    },
    {
      "cell_type": "code",
      "metadata": {
        "id": "YJ1rY10A8WwZ",
        "colab_type": "code",
        "outputId": "965a2f23-e132-456a-d3c8-36bfce60284b",
        "colab": {
          "base_uri": "https://localhost:8080/",
          "height": 99
        }
      },
      "source": [
        "# selecionamos a linha zero assim: [0,:]\n",
        "pd.DataFrame(dados_teste_features_selecionadas[0,:].toarray(),columns=features_selecionadas)"
      ],
      "execution_count": 0,
      "outputs": [
        {
          "output_type": "execute_result",
          "data": {
            "text/html": [
              "<div>\n",
              "<style scoped>\n",
              "    .dataframe tbody tr th:only-of-type {\n",
              "        vertical-align: middle;\n",
              "    }\n",
              "\n",
              "    .dataframe tbody tr th {\n",
              "        vertical-align: top;\n",
              "    }\n",
              "\n",
              "    .dataframe thead th {\n",
              "        text-align: right;\n",
              "    }\n",
              "</style>\n",
              "<table border=\"1\" class=\"dataframe\">\n",
              "  <thead>\n",
              "    <tr style=\"text-align: right;\">\n",
              "      <th></th>\n",
              "      <th>x0_brief</th>\n",
              "      <th>x0_cute</th>\n",
              "      <th>x0_flare</th>\n",
              "      <th>x0_party</th>\n",
              "      <th>x0_sexy</th>\n",
              "      <th>x1_scoop</th>\n",
              "      <th>x2_halfsleeve</th>\n",
              "      <th>x2_threequarter</th>\n",
              "      <th>x3_cotton</th>\n",
              "      <th>x3_lace</th>\n",
              "      <th>x3_linen</th>\n",
              "      <th>x3_other</th>\n",
              "      <th>x3_polyster</th>\n",
              "      <th>x3_rayon</th>\n",
              "      <th>x3_shiffon</th>\n",
              "      <th>x3_silk</th>\n",
              "      <th>x4_chiffon</th>\n",
              "      <th>x4_jersey</th>\n",
              "      <th>x5_-1</th>\n",
              "      <th>x5_feathers</th>\n",
              "    </tr>\n",
              "  </thead>\n",
              "  <tbody>\n",
              "    <tr>\n",
              "      <th>0</th>\n",
              "      <td>0.0</td>\n",
              "      <td>0.0</td>\n",
              "      <td>0.0</td>\n",
              "      <td>0.0</td>\n",
              "      <td>0.0</td>\n",
              "      <td>0.0</td>\n",
              "      <td>0.0</td>\n",
              "      <td>0.0</td>\n",
              "      <td>1.0</td>\n",
              "      <td>0.0</td>\n",
              "      <td>0.0</td>\n",
              "      <td>0.0</td>\n",
              "      <td>0.0</td>\n",
              "      <td>0.0</td>\n",
              "      <td>0.0</td>\n",
              "      <td>0.0</td>\n",
              "      <td>0.0</td>\n",
              "      <td>0.0</td>\n",
              "      <td>0.0</td>\n",
              "      <td>0.0</td>\n",
              "    </tr>\n",
              "  </tbody>\n",
              "</table>\n",
              "</div>"
            ],
            "text/plain": [
              "   x0_brief  x0_cute  x0_flare  ...  x4_jersey  x5_-1  x5_feathers\n",
              "0       0.0      0.0       0.0  ...        0.0    0.0          0.0\n",
              "\n",
              "[1 rows x 20 columns]"
            ]
          },
          "metadata": {
            "tags": []
          },
          "execution_count": 22
        }
      ]
    },
    {
      "cell_type": "code",
      "metadata": {
        "id": "4hPP4xKU_B8Q",
        "colab_type": "code",
        "outputId": "53a77bab-5bb0-4a23-8e2e-17a69dbd8508",
        "colab": {
          "base_uri": "https://localhost:8080/",
          "height": 79
        }
      },
      "source": [
        "# utilizamos o método predict_proba() para ver o score para cada uma das classes\n",
        "pd.DataFrame(clf.predict_proba(dados_teste_features_selecionadas[0,:]), columns=rotulos_encoder.classes_)"
      ],
      "execution_count": 0,
      "outputs": [
        {
          "output_type": "execute_result",
          "data": {
            "text/html": [
              "<div>\n",
              "<style scoped>\n",
              "    .dataframe tbody tr th:only-of-type {\n",
              "        vertical-align: middle;\n",
              "    }\n",
              "\n",
              "    .dataframe tbody tr th {\n",
              "        vertical-align: top;\n",
              "    }\n",
              "\n",
              "    .dataframe thead th {\n",
              "        text-align: right;\n",
              "    }\n",
              "</style>\n",
              "<table border=\"1\" class=\"dataframe\">\n",
              "  <thead>\n",
              "    <tr style=\"text-align: right;\">\n",
              "      <th></th>\n",
              "      <th>automn</th>\n",
              "      <th>spring</th>\n",
              "      <th>summer</th>\n",
              "      <th>winter</th>\n",
              "    </tr>\n",
              "  </thead>\n",
              "  <tbody>\n",
              "    <tr>\n",
              "      <th>0</th>\n",
              "      <td>0.103896</td>\n",
              "      <td>0.194805</td>\n",
              "      <td>0.532468</td>\n",
              "      <td>0.168831</td>\n",
              "    </tr>\n",
              "  </tbody>\n",
              "</table>\n",
              "</div>"
            ],
            "text/plain": [
              "     automn    spring    summer    winter\n",
              "0  0.103896  0.194805  0.532468  0.168831"
            ]
          },
          "metadata": {
            "tags": []
          },
          "execution_count": 23
        }
      ]
    },
    {
      "cell_type": "code",
      "metadata": {
        "id": "oJ7iJkMxGN1R",
        "colab_type": "code",
        "outputId": "020cc602-7a76-4c2f-cef4-c3b88714b6a3",
        "colab": {
          "base_uri": "https://localhost:8080/",
          "height": 35
        }
      },
      "source": [
        "# a classe é atribuída ao maior score (que no caso acima é 'summer')\n",
        "rotulos_encoder.inverse_transform([rotulos_teste[0]])"
      ],
      "execution_count": 0,
      "outputs": [
        {
          "output_type": "execute_result",
          "data": {
            "text/plain": [
              "array(['summer'], dtype=object)"
            ]
          },
          "metadata": {
            "tags": []
          },
          "execution_count": 24
        }
      ]
    },
    {
      "cell_type": "markdown",
      "metadata": {
        "id": "xq_pGl4__gvv",
        "colab_type": "text"
      },
      "source": [
        "### 1.2 Consertando o 'nan' nas classes\n",
        "Lá em cima, após carregar os dados do CSV, vamos remover as linhas que possuem valor 'nan' na coluna 'Season'\n",
        "\n",
        "`df = df.dropna(subset=[\"Season\"])`"
      ]
    },
    {
      "cell_type": "code",
      "metadata": {
        "id": "e6Eg9yBa9OpE",
        "colab_type": "code",
        "outputId": "af4e2664-2f0f-45f9-aa27-2a6398b9ad5e",
        "colab": {
          "base_uri": "https://localhost:8080/",
          "height": 121
        }
      },
      "source": [
        "df[\"season_minusculo\"].value_counts(dropna=False)"
      ],
      "execution_count": 0,
      "outputs": [
        {
          "output_type": "execute_result",
          "data": {
            "text/plain": [
              "summer    160\n",
              "winter    145\n",
              "spring    124\n",
              "automn     69\n",
              "nan         2\n",
              "Name: season_minusculo, dtype: int64"
            ]
          },
          "metadata": {
            "tags": []
          },
          "execution_count": 40
        }
      ]
    },
    {
      "cell_type": "markdown",
      "metadata": {
        "id": "SeYzovn8CS5H",
        "colab_type": "text"
      },
      "source": [
        "Agora temos que rodar novamente os códigos que usamos para testar o modelo"
      ]
    },
    {
      "cell_type": "markdown",
      "metadata": {
        "id": "Tgba40KEDoRm",
        "colab_type": "text"
      },
      "source": [
        "### 1.3 Onde o modelo tá errando?\n",
        "Vamos ver com a **matriz de confusão** (confusion matrix).\n",
        "Cada linha representa a classe correta. O número representa a quantidade de instâncias da classe do índice que foram classificadas na classe da coluna."
      ]
    },
    {
      "cell_type": "code",
      "metadata": {
        "id": "KkNzJRZKJfmU",
        "colab_type": "code",
        "outputId": "47608d37-03c3-4bb1-ec05-4eb5d1a6103f",
        "colab": {
          "base_uri": "https://localhost:8080/",
          "height": 172
        }
      },
      "source": [
        "from sklearn.metrics import confusion_matrix\n",
        "\n",
        "pd.DataFrame(confusion_matrix(predicoes, rotulos_teste),columns=rotulos_encoder.classes_,index=rotulos_encoder.classes_)"
      ],
      "execution_count": 0,
      "outputs": [
        {
          "output_type": "execute_result",
          "data": {
            "text/html": [
              "<div>\n",
              "<style scoped>\n",
              "    .dataframe tbody tr th:only-of-type {\n",
              "        vertical-align: middle;\n",
              "    }\n",
              "\n",
              "    .dataframe tbody tr th {\n",
              "        vertical-align: top;\n",
              "    }\n",
              "\n",
              "    .dataframe thead th {\n",
              "        text-align: right;\n",
              "    }\n",
              "</style>\n",
              "<table border=\"1\" class=\"dataframe\">\n",
              "  <thead>\n",
              "    <tr style=\"text-align: right;\">\n",
              "      <th></th>\n",
              "      <th>automn</th>\n",
              "      <th>spring</th>\n",
              "      <th>summer</th>\n",
              "      <th>winter</th>\n",
              "    </tr>\n",
              "  </thead>\n",
              "  <tbody>\n",
              "    <tr>\n",
              "      <th>automn</th>\n",
              "      <td>0</td>\n",
              "      <td>1</td>\n",
              "      <td>1</td>\n",
              "      <td>1</td>\n",
              "    </tr>\n",
              "    <tr>\n",
              "      <th>spring</th>\n",
              "      <td>12</td>\n",
              "      <td>12</td>\n",
              "      <td>11</td>\n",
              "      <td>12</td>\n",
              "    </tr>\n",
              "    <tr>\n",
              "      <th>summer</th>\n",
              "      <td>8</td>\n",
              "      <td>21</td>\n",
              "      <td>36</td>\n",
              "      <td>16</td>\n",
              "    </tr>\n",
              "    <tr>\n",
              "      <th>winter</th>\n",
              "      <td>3</td>\n",
              "      <td>7</td>\n",
              "      <td>5</td>\n",
              "      <td>19</td>\n",
              "    </tr>\n",
              "  </tbody>\n",
              "</table>\n",
              "</div>"
            ],
            "text/plain": [
              "        automn  spring  summer  winter\n",
              "automn       0       1       1       1\n",
              "spring      12      12      11      12\n",
              "summer       8      21      36      16\n",
              "winter       3       7       5      19"
            ]
          },
          "metadata": {
            "tags": []
          },
          "execution_count": 25
        }
      ]
    },
    {
      "cell_type": "markdown",
      "metadata": {
        "id": "qF0bxz3UyhNw",
        "colab_type": "text"
      },
      "source": [
        "Ao observar a matriz de confusão acima vemos que nenhuma instância foi corretamente classificada como 'automn', e o maior número de erros tá na classe 'summer' que foi classificada como 'spring' 21 vezes.\n",
        "\n",
        "Vamos olhar os casos onde o modelo está errando:"
      ]
    },
    {
      "cell_type": "code",
      "metadata": {
        "id": "v7JDuqyd3Q97",
        "colab_type": "code",
        "outputId": "9c612dca-0918-4f47-cc8f-8860fcb10cb7",
        "colab": {
          "base_uri": "https://localhost:8080/",
          "height": 176
        }
      },
      "source": [
        "df_corretas_predicoes = pd.DataFrame(rotulos_teste,columns=[\"correta\"]).join(pd.DataFrame(predicoes,columns=[\"predicao\"]))\n",
        "df_corretas_predicoes.query('correta != predicao').index"
      ],
      "execution_count": 0,
      "outputs": [
        {
          "output_type": "execute_result",
          "data": {
            "text/plain": [
              "Int64Index([  1,   3,   5,   7,   8,  10,  11,  12,  13,  16,  18,  20,  21,\n",
              "             23,  24,  26,  28,  29,  30,  32,  34,  35,  38,  42,  43,  44,\n",
              "             46,  47,  48,  49,  52,  53,  55,  59,  61,  62,  63,  64,  65,\n",
              "             67,  68,  71,  74,  76,  77,  78,  82,  86,  87,  89,  90,  91,\n",
              "             93,  94,  97,  98, 101, 105, 107, 108, 109, 110, 113, 114, 117,\n",
              "            118, 119, 120, 121, 123, 124, 125, 126, 130, 131, 133, 134, 136,\n",
              "            137, 140, 143, 144, 146, 147, 148, 149, 150, 152, 154, 155, 156,\n",
              "            157, 158, 159, 161, 162, 163, 164],\n",
              "           dtype='int64')"
            ]
          },
          "metadata": {
            "tags": []
          },
          "execution_count": 26
        }
      ]
    },
    {
      "cell_type": "code",
      "metadata": {
        "id": "wXAzG6nJ9VYj",
        "colab_type": "code",
        "outputId": "0adcc5ec-2daf-4b64-cf81-743cf956f0ec",
        "colab": {
          "base_uri": "https://localhost:8080/",
          "height": 215
        }
      },
      "source": [
        "index = 1\n",
        "\n",
        "display(pd.DataFrame(dados_teste_features_selecionadas[index,:].toarray(),columns=features_selecionadas))\n",
        "display(pd.DataFrame(clf.predict_proba(dados_teste_features_selecionadas[index,:]), columns=rotulos_encoder.classes_))\n",
        "print(df_corretas_predicoes.iloc[index])"
      ],
      "execution_count": 0,
      "outputs": [
        {
          "output_type": "display_data",
          "data": {
            "text/html": [
              "<div>\n",
              "<style scoped>\n",
              "    .dataframe tbody tr th:only-of-type {\n",
              "        vertical-align: middle;\n",
              "    }\n",
              "\n",
              "    .dataframe tbody tr th {\n",
              "        vertical-align: top;\n",
              "    }\n",
              "\n",
              "    .dataframe thead th {\n",
              "        text-align: right;\n",
              "    }\n",
              "</style>\n",
              "<table border=\"1\" class=\"dataframe\">\n",
              "  <thead>\n",
              "    <tr style=\"text-align: right;\">\n",
              "      <th></th>\n",
              "      <th>x0_brief</th>\n",
              "      <th>x0_cute</th>\n",
              "      <th>x0_flare</th>\n",
              "      <th>x0_party</th>\n",
              "      <th>x0_sexy</th>\n",
              "      <th>x1_scoop</th>\n",
              "      <th>x2_halfsleeve</th>\n",
              "      <th>x2_threequarter</th>\n",
              "      <th>x3_cotton</th>\n",
              "      <th>x3_lace</th>\n",
              "      <th>x3_linen</th>\n",
              "      <th>x3_other</th>\n",
              "      <th>x3_polyster</th>\n",
              "      <th>x3_rayon</th>\n",
              "      <th>x3_shiffon</th>\n",
              "      <th>x3_silk</th>\n",
              "      <th>x4_chiffon</th>\n",
              "      <th>x4_jersey</th>\n",
              "      <th>x5_-1</th>\n",
              "      <th>x5_feathers</th>\n",
              "    </tr>\n",
              "  </thead>\n",
              "  <tbody>\n",
              "    <tr>\n",
              "      <th>0</th>\n",
              "      <td>0.0</td>\n",
              "      <td>0.0</td>\n",
              "      <td>0.0</td>\n",
              "      <td>0.0</td>\n",
              "      <td>0.0</td>\n",
              "      <td>0.0</td>\n",
              "      <td>0.0</td>\n",
              "      <td>1.0</td>\n",
              "      <td>0.0</td>\n",
              "      <td>0.0</td>\n",
              "      <td>0.0</td>\n",
              "      <td>0.0</td>\n",
              "      <td>0.0</td>\n",
              "      <td>0.0</td>\n",
              "      <td>0.0</td>\n",
              "      <td>1.0</td>\n",
              "      <td>1.0</td>\n",
              "      <td>0.0</td>\n",
              "      <td>0.0</td>\n",
              "      <td>0.0</td>\n",
              "    </tr>\n",
              "  </tbody>\n",
              "</table>\n",
              "</div>"
            ],
            "text/plain": [
              "   x0_brief  x0_cute  x0_flare  ...  x4_jersey  x5_-1  x5_feathers\n",
              "0       0.0      0.0       0.0  ...        0.0    0.0          0.0\n",
              "\n",
              "[1 rows x 20 columns]"
            ]
          },
          "metadata": {
            "tags": []
          }
        },
        {
          "output_type": "display_data",
          "data": {
            "text/html": [
              "<div>\n",
              "<style scoped>\n",
              "    .dataframe tbody tr th:only-of-type {\n",
              "        vertical-align: middle;\n",
              "    }\n",
              "\n",
              "    .dataframe tbody tr th {\n",
              "        vertical-align: top;\n",
              "    }\n",
              "\n",
              "    .dataframe thead th {\n",
              "        text-align: right;\n",
              "    }\n",
              "</style>\n",
              "<table border=\"1\" class=\"dataframe\">\n",
              "  <thead>\n",
              "    <tr style=\"text-align: right;\">\n",
              "      <th></th>\n",
              "      <th>automn</th>\n",
              "      <th>spring</th>\n",
              "      <th>summer</th>\n",
              "      <th>winter</th>\n",
              "    </tr>\n",
              "  </thead>\n",
              "  <tbody>\n",
              "    <tr>\n",
              "      <th>0</th>\n",
              "      <td>0.0</td>\n",
              "      <td>0.0</td>\n",
              "      <td>0.0</td>\n",
              "      <td>1.0</td>\n",
              "    </tr>\n",
              "  </tbody>\n",
              "</table>\n",
              "</div>"
            ],
            "text/plain": [
              "   automn  spring  summer  winter\n",
              "0     0.0     0.0     0.0     1.0"
            ]
          },
          "metadata": {
            "tags": []
          }
        },
        {
          "output_type": "stream",
          "text": [
            "correta     1\n",
            "predicao    3\n",
            "Name: 1, dtype: int64\n"
          ],
          "name": "stdout"
        }
      ]
    },
    {
      "cell_type": "code",
      "metadata": {
        "id": "QIRHUqImorUW",
        "colab_type": "code",
        "outputId": "27c189d8-877f-4d02-be2f-2db3d41722fc",
        "colab": {
          "base_uri": "https://localhost:8080/",
          "height": 35
        }
      },
      "source": [
        "rotulos_encoder.classes_"
      ],
      "execution_count": 0,
      "outputs": [
        {
          "output_type": "execute_result",
          "data": {
            "text/plain": [
              "array(['automn', 'spring', 'summer', 'winter'], dtype=object)"
            ]
          },
          "metadata": {
            "tags": []
          },
          "execution_count": 28
        }
      ]
    },
    {
      "cell_type": "code",
      "metadata": {
        "id": "larT5Eq1oZQh",
        "colab_type": "code",
        "outputId": "deacf968-d7ed-480c-e076-bc6c3001c9ce",
        "colab": {
          "base_uri": "https://localhost:8080/",
          "height": 215
        }
      },
      "source": [
        "index = 2\n",
        "\n",
        "display(pd.DataFrame(dados_teste_features_selecionadas[index,:].toarray(),columns=features_selecionadas))\n",
        "display(pd.DataFrame(clf.predict_proba(dados_teste_features_selecionadas[index,:]), columns=rotulos_encoder.classes_))\n",
        "print(df_corretas_predicoes.iloc[index])"
      ],
      "execution_count": 0,
      "outputs": [
        {
          "output_type": "display_data",
          "data": {
            "text/html": [
              "<div>\n",
              "<style scoped>\n",
              "    .dataframe tbody tr th:only-of-type {\n",
              "        vertical-align: middle;\n",
              "    }\n",
              "\n",
              "    .dataframe tbody tr th {\n",
              "        vertical-align: top;\n",
              "    }\n",
              "\n",
              "    .dataframe thead th {\n",
              "        text-align: right;\n",
              "    }\n",
              "</style>\n",
              "<table border=\"1\" class=\"dataframe\">\n",
              "  <thead>\n",
              "    <tr style=\"text-align: right;\">\n",
              "      <th></th>\n",
              "      <th>x0_brief</th>\n",
              "      <th>x0_cute</th>\n",
              "      <th>x0_flare</th>\n",
              "      <th>x0_party</th>\n",
              "      <th>x0_sexy</th>\n",
              "      <th>x1_scoop</th>\n",
              "      <th>x2_halfsleeve</th>\n",
              "      <th>x2_threequarter</th>\n",
              "      <th>x3_cotton</th>\n",
              "      <th>x3_lace</th>\n",
              "      <th>x3_linen</th>\n",
              "      <th>x3_other</th>\n",
              "      <th>x3_polyster</th>\n",
              "      <th>x3_rayon</th>\n",
              "      <th>x3_shiffon</th>\n",
              "      <th>x3_silk</th>\n",
              "      <th>x4_chiffon</th>\n",
              "      <th>x4_jersey</th>\n",
              "      <th>x5_-1</th>\n",
              "      <th>x5_feathers</th>\n",
              "    </tr>\n",
              "  </thead>\n",
              "  <tbody>\n",
              "    <tr>\n",
              "      <th>0</th>\n",
              "      <td>0.0</td>\n",
              "      <td>0.0</td>\n",
              "      <td>0.0</td>\n",
              "      <td>1.0</td>\n",
              "      <td>0.0</td>\n",
              "      <td>0.0</td>\n",
              "      <td>0.0</td>\n",
              "      <td>0.0</td>\n",
              "      <td>0.0</td>\n",
              "      <td>0.0</td>\n",
              "      <td>0.0</td>\n",
              "      <td>0.0</td>\n",
              "      <td>0.0</td>\n",
              "      <td>0.0</td>\n",
              "      <td>0.0</td>\n",
              "      <td>0.0</td>\n",
              "      <td>1.0</td>\n",
              "      <td>0.0</td>\n",
              "      <td>0.0</td>\n",
              "      <td>0.0</td>\n",
              "    </tr>\n",
              "  </tbody>\n",
              "</table>\n",
              "</div>"
            ],
            "text/plain": [
              "   x0_brief  x0_cute  x0_flare  ...  x4_jersey  x5_-1  x5_feathers\n",
              "0       0.0      0.0       0.0  ...        0.0    0.0          0.0\n",
              "\n",
              "[1 rows x 20 columns]"
            ]
          },
          "metadata": {
            "tags": []
          }
        },
        {
          "output_type": "display_data",
          "data": {
            "text/html": [
              "<div>\n",
              "<style scoped>\n",
              "    .dataframe tbody tr th:only-of-type {\n",
              "        vertical-align: middle;\n",
              "    }\n",
              "\n",
              "    .dataframe tbody tr th {\n",
              "        vertical-align: top;\n",
              "    }\n",
              "\n",
              "    .dataframe thead th {\n",
              "        text-align: right;\n",
              "    }\n",
              "</style>\n",
              "<table border=\"1\" class=\"dataframe\">\n",
              "  <thead>\n",
              "    <tr style=\"text-align: right;\">\n",
              "      <th></th>\n",
              "      <th>automn</th>\n",
              "      <th>spring</th>\n",
              "      <th>summer</th>\n",
              "      <th>winter</th>\n",
              "    </tr>\n",
              "  </thead>\n",
              "  <tbody>\n",
              "    <tr>\n",
              "      <th>0</th>\n",
              "      <td>0.0</td>\n",
              "      <td>0.333333</td>\n",
              "      <td>0.0</td>\n",
              "      <td>0.666667</td>\n",
              "    </tr>\n",
              "  </tbody>\n",
              "</table>\n",
              "</div>"
            ],
            "text/plain": [
              "   automn    spring  summer    winter\n",
              "0     0.0  0.333333     0.0  0.666667"
            ]
          },
          "metadata": {
            "tags": []
          }
        },
        {
          "output_type": "stream",
          "text": [
            "correta     3\n",
            "predicao    3\n",
            "Name: 2, dtype: int64\n"
          ],
          "name": "stdout"
        }
      ]
    },
    {
      "cell_type": "markdown",
      "metadata": {
        "id": "UXmmJgFj-vZC",
        "colab_type": "text"
      },
      "source": [
        "### 1.4 Quais os melhores parâmetros para a Árvore de Decisão?"
      ]
    },
    {
      "cell_type": "code",
      "metadata": {
        "id": "gFSUnrUE_CFC",
        "colab_type": "code",
        "outputId": "3033e0a9-ce37-40f6-894b-75fbed5ae2f3",
        "colab": {
          "base_uri": "https://localhost:8080/",
          "height": 126
        }
      },
      "source": [
        "from sklearn.model_selection import GridSearchCV\n",
        "\n",
        "parameters = {'criterion':('gini', 'entropy'), 'splitter':[\"best\", \"random\"], \"max_depth\":[3,5,7,10]}\n",
        "\n",
        "clf_grid = GridSearchCV(clf, parameters)\n",
        "clf_grid.fit(dados_treinamento_features_selecionadas, rotulos_treinamento)\n",
        "\n",
        "\n",
        "clf_grid.best_params_"
      ],
      "execution_count": 0,
      "outputs": [
        {
          "output_type": "stream",
          "text": [
            "/usr/local/lib/python3.6/dist-packages/sklearn/model_selection/_split.py:1978: FutureWarning: The default value of cv will change from 3 to 5 in version 0.22. Specify it explicitly to silence this warning.\n",
            "  warnings.warn(CV_WARNING, FutureWarning)\n",
            "/usr/local/lib/python3.6/dist-packages/sklearn/model_selection/_search.py:814: DeprecationWarning: The default of the `iid` parameter will change from True to False in version 0.22 and will be removed in 0.24. This will change numeric results when test-set sizes are unequal.\n",
            "  DeprecationWarning)\n"
          ],
          "name": "stderr"
        },
        {
          "output_type": "execute_result",
          "data": {
            "text/plain": [
              "{'criterion': 'entropy', 'max_depth': 3, 'splitter': 'best'}"
            ]
          },
          "metadata": {
            "tags": []
          },
          "execution_count": 30
        }
      ]
    },
    {
      "cell_type": "markdown",
      "metadata": {
        "id": "_izeK6l7jMJ-",
        "colab_type": "text"
      },
      "source": [
        "Os objetos das classes GridSearchCV e RandomSearchCV também se comportam como Estimators (ver slides da Sessão 01 sobre a API do Scikit-learn). Isso quer dizer que podemos chamar o método .fit() e ele utiliza o modelo com os melhores parâmetros para fazer as predições.\n",
        "\n",
        "Vamos comparar o desempenho com o desempenho do modelo que treinamos antes:"
      ]
    },
    {
      "cell_type": "code",
      "metadata": {
        "id": "CLlyizWTBZ5a",
        "colab_type": "code",
        "outputId": "44c377c1-d6f9-4359-ca10-751616139523",
        "colab": {
          "base_uri": "https://localhost:8080/",
          "height": 267
        }
      },
      "source": [
        "# Salvando as predições em uma variável\n",
        "predicoes_grid = clf_grid.predict(dados_teste_features_selecionadas)\n",
        "print(classification_report(predicoes_grid, rotulos_teste))"
      ],
      "execution_count": 0,
      "outputs": [
        {
          "output_type": "stream",
          "text": [
            "              precision    recall  f1-score   support\n",
            "\n",
            "           0       0.00      0.00      0.00         0\n",
            "           1       0.34      0.31      0.33        45\n",
            "           2       0.74      0.43      0.54        91\n",
            "           3       0.38      0.62      0.47        29\n",
            "\n",
            "    accuracy                           0.43       165\n",
            "   macro avg       0.36      0.34      0.33       165\n",
            "weighted avg       0.56      0.43      0.47       165\n",
            "\n"
          ],
          "name": "stdout"
        },
        {
          "output_type": "stream",
          "text": [
            "/usr/local/lib/python3.6/dist-packages/sklearn/metrics/classification.py:1439: UndefinedMetricWarning: Recall and F-score are ill-defined and being set to 0.0 in labels with no true samples.\n",
            "  'recall', 'true', average, warn_for)\n"
          ],
          "name": "stderr"
        }
      ]
    },
    {
      "cell_type": "code",
      "metadata": {
        "id": "H6xWkDshCsby",
        "colab_type": "code",
        "outputId": "4e0a1342-64fb-42a0-f100-187d86d87e98",
        "colab": {
          "base_uri": "https://localhost:8080/",
          "height": 176
        }
      },
      "source": [
        "df_corretas_predicoes = pd.DataFrame(rotulos_teste,columns=[\"correta\"]).join(pd.DataFrame(predicoes_grid,columns=[\"predicao\"]))\n",
        "df_corretas_predicoes.query('correta != predicao').index"
      ],
      "execution_count": 0,
      "outputs": [
        {
          "output_type": "execute_result",
          "data": {
            "text/plain": [
              "Int64Index([  2,   3,   5,   7,   8,  10,  11,  12,  13,  16,  17,  18,  21,\n",
              "             23,  25,  28,  29,  30,  32,  34,  35,  38,  42,  43,  46,  47,\n",
              "             48,  49,  53,  55,  59,  61,  62,  63,  64,  65,  67,  68,  69,\n",
              "             71,  72,  76,  77,  78,  82,  86,  87,  89,  90,  91,  93,  94,\n",
              "             97,  98,  99, 101, 105, 107, 108, 109, 110, 113, 114, 117, 118,\n",
              "            119, 120, 121, 123, 124, 125, 126, 130, 131, 133, 134, 136, 137,\n",
              "            140, 143, 146, 147, 148, 149, 150, 152, 154, 155, 156, 157, 161,\n",
              "            162, 163, 164],\n",
              "           dtype='int64')"
            ]
          },
          "metadata": {
            "tags": []
          },
          "execution_count": 32
        }
      ]
    }
  ]
}